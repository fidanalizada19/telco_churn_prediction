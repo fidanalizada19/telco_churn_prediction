{
 "cells": [
  {
   "cell_type": "code",
   "execution_count": null,
   "id": "fad590b7",
   "metadata": {},
   "outputs": [],
   "source": [
    "import pandas as pd\n",
    "import matplotlib.pyplot as plt\n",
    "import seaborn as sns\n",
    "sns.set(style=\"whitegrid\")\n",
    "\n",
    "df = pd.read_csv(\"../data/telco.csv\")\n",
    "df.head()\n",
    "df.info()\n",
    "df.describe()\n",
    "sns.countplot(x=\"Churn\", data=df)\n",
    "plt.title(\"Churn Distribution\")\n",
    "plt.show()\n",
    "df.select_dtypes(include=[\"int64\", \"float64\"]).hist(figsize=(10, 6), bins=20)\n",
    "plt.suptitle(\"Numeric Features Distribution\")\n",
    "plt.tight_layout()\n",
    "plt.show()"
   ]
  }
 ],
 "metadata": {
  "language_info": {
   "name": "python"
  }
 },
 "nbformat": 4,
 "nbformat_minor": 5
}
